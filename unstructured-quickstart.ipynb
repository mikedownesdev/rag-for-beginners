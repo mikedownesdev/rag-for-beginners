{
 "cells": [
  {
   "cell_type": "code",
   "execution_count": 1,
   "metadata": {},
   "outputs": [
    {
     "name": "stderr",
     "output_type": "stream",
     "text": [
      "2024-10-14 11:35:45,230 MainProcess INFO     created index with configs: {\"input_path\": \"input/pdf\", \"recursive\": false}, connection configs: {\"access_config\": \"**********\"}\n",
      "2024-10-14 11:35:45,230 MainProcess INFO     Created download with configs: {\"download_dir\": null}, connection configs: {\"access_config\": \"**********\"}\n",
      "2024-10-14 11:35:45,230 MainProcess INFO     created partition with configs: {\"strategy\": \"hi_res\", \"ocr_languages\": null, \"encoding\": null, \"additional_partition_args\": {\"split_pdf_page\": true, \"split_pdf_allow_failed\": true, \"split_pdf_concurrency_level\": 15}, \"skip_infer_table_types\": null, \"fields_include\": [\"element_id\", \"text\", \"type\", \"metadata\", \"embeddings\"], \"flatten_metadata\": false, \"metadata_exclude\": [], \"metadata_include\": [], \"partition_endpoint\": \"https://api.unstructuredapp.io/general/v0/general\", \"partition_by_api\": true, \"api_key\": \"*******\", \"hi_res_model_name\": null}\n",
      "2024-10-14 11:35:45,231 MainProcess INFO     Created upload with configs: {\"output_dir\": \"./output\"}, connection configs: {\"access_config\": \"**********\"}\n",
      "2024-10-14 11:35:45,232 MainProcess INFO     running local pipeline: index (LocalIndexer) -> download (LocalDownloader) -> partition (hi_res) -> upload (LocalUploader) with configs: {\"reprocess\": false, \"verbose\": false, \"tqdm\": false, \"work_dir\": \"/Users/michaeldownes/.cache/unstructured/ingest/pipeline\", \"num_processes\": 2, \"max_connections\": null, \"raise_on_error\": false, \"disable_parallelism\": false, \"preserve_downloads\": false, \"download_only\": false, \"re_download\": false, \"uncompress\": false, \"iter_delete\": false, \"delete_cache\": false, \"otel_endpoint\": null, \"status\": {}}\n",
      "2024-10-14 11:35:45,308 MainProcess INFO     index finished in 4.7e-05s\n",
      "2024-10-14 11:35:45,314 MainProcess INFO     calling DownloadStep with 4 docs\n",
      "2024-10-14 11:35:45,314 MainProcess INFO     processing content async\n",
      "2024-10-14 11:35:45,315 MainProcess WARNING  async code being run in dedicated thread pool to not conflict with existing event loop: <_UnixSelectorEventLoop running=True closed=False debug=False>\n",
      "2024-10-14 11:35:45,319 MainProcess INFO     download finished in 0.002705s, attributes: file_id=d46ab8d106a8\n",
      "2024-10-14 11:35:45,321 MainProcess INFO     download finished in 0.00202s, attributes: file_id=bd01508c5129\n",
      "2024-10-14 11:35:45,325 MainProcess INFO     download finished in 0.002224s, attributes: file_id=3333a4a8b449\n",
      "2024-10-14 11:35:45,328 MainProcess INFO     download finished in 0.001689s, attributes: file_id=edfed036845b\n",
      "2024-10-14 11:35:45,329 MainProcess INFO     download step finished in 0.014513s\n",
      "2024-10-14 11:35:45,329 MainProcess INFO     calling PartitionStep with 4 docs\n",
      "2024-10-14 11:35:45,329 MainProcess INFO     processing content async\n",
      "2024-10-14 11:35:45,331 MainProcess WARNING  async code being run in dedicated thread pool to not conflict with existing event loop: <_UnixSelectorEventLoop running=True closed=False debug=False>\n",
      "2024-10-14 11:35:45,334 MainProcess INFO     partition finished in 0.001122s, attributes: file_id=d46ab8d106a8\n",
      "2024-10-14 11:35:45,335 MainProcess INFO     partition finished in 0.000907s, attributes: file_id=bd01508c5129\n",
      "2024-10-14 11:35:45,337 MainProcess INFO     partition finished in 0.000952s, attributes: file_id=3333a4a8b449\n",
      "2024-10-14 11:35:45,338 MainProcess INFO     partition finished in 0.000954s, attributes: file_id=edfed036845b\n",
      "2024-10-14 11:35:45,339 MainProcess INFO     partition step finished in 0.009872s\n",
      "2024-10-14 11:35:45,339 MainProcess INFO     calling UploadStep with 4 docs\n",
      "2024-10-14 11:35:45,340 MainProcess INFO     processing content across processes\n",
      "2024-10-14 11:35:46,169 MainProcess INFO     upload step finished in 0.829717s\n",
      "2024-10-14 11:35:46,170 MainProcess INFO     ingest process finished in 0.93777s\n"
     ]
    }
   ],
   "source": [
    "import os\n",
    "\n",
    "from unstructured_ingest.v2.pipeline.pipeline import Pipeline\n",
    "from unstructured_ingest.v2.interfaces import ProcessorConfig\n",
    "from unstructured_ingest.v2.processes.connectors.local import (\n",
    "    LocalIndexerConfig,\n",
    "    LocalDownloaderConfig,\n",
    "    LocalConnectionConfig,\n",
    "    LocalUploaderConfig\n",
    ")\n",
    "from unstructured_ingest.v2.processes.partitioner import PartitionerConfig\n",
    "\n",
    "if __name__ == \"__main__\":\n",
    "    Pipeline.from_configs(\n",
    "        context=ProcessorConfig(),\n",
    "        indexer_config=LocalIndexerConfig(input_path='./input/pdf'),\n",
    "        downloader_config=LocalDownloaderConfig(),\n",
    "        source_connection_config=LocalConnectionConfig(),\n",
    "        partitioner_config=PartitionerConfig(\n",
    "            partition_by_api=True,\n",
    "            api_key=os.getenv(\"UNSTRUCTURED_API_KEY\"),\n",
    "            partition_endpoint=os.getenv(\"UNSTRUCTURED_API_URL\"),\n",
    "            strategy=\"hi_res\",\n",
    "            additional_partition_args={\n",
    "                \"split_pdf_page\": True,\n",
    "                \"split_pdf_allow_failed\": True,\n",
    "                \"split_pdf_concurrency_level\": 15\n",
    "            }\n",
    "        ),\n",
    "        uploader_config=LocalUploaderConfig(output_dir='./output'),\n",
    "    ).run()\n"
   ]
  }
 ],
 "metadata": {
  "kernelspec": {
   "display_name": ".venv",
   "language": "python",
   "name": "python3"
  },
  "language_info": {
   "codemirror_mode": {
    "name": "ipython",
    "version": 3
   },
   "file_extension": ".py",
   "mimetype": "text/x-python",
   "name": "python",
   "nbconvert_exporter": "python",
   "pygments_lexer": "ipython3",
   "version": "3.9.4"
  }
 },
 "nbformat": 4,
 "nbformat_minor": 2
}
